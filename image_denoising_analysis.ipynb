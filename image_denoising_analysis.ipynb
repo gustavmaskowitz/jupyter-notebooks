{
  "nbformat": 4,
  "nbformat_minor": 0,
  "metadata": {
    "colab": {
      "name": "image_denoising_analysis.ipynb",
      "version": "0.3.2",
      "provenance": [],
      "toc_visible": true,
      "include_colab_link": true
    },
    "language_info": {
      "codemirror_mode": {
        "name": "ipython",
        "version": 3
      },
      "file_extension": ".py",
      "mimetype": "text/x-python",
      "name": "python",
      "nbconvert_exporter": "python",
      "pygments_lexer": "ipython3",
      "version": "3.6.4"
    },
    "kernelspec": {
      "display_name": "Python 3",
      "language": "python",
      "name": "python3"
    }
  },
  "cells": [
    {
      "cell_type": "markdown",
      "metadata": {
        "id": "view-in-github",
        "colab_type": "text"
      },
      "source": [
        "<a href=\"https://colab.research.google.com/github/gustavmaskowitz/jupyter-notebooks/blob/master/image_denoising_analysis.ipynb\" target=\"_parent\"><img src=\"https://colab.research.google.com/assets/colab-badge.svg\" alt=\"Open In Colab\"/></a>"
      ]
    },
    {
      "cell_type": "markdown",
      "metadata": {
        "id": "mlHEiY47RvSA",
        "colab_type": "text"
      },
      "source": [
        "# Model analysis\n",
        "This notebook will help you to analyze the output from a deployed autoencoder model.\n",
        "\n",
        "All credit to the technical writer team at Peltarion, Stockholm (Thank you Joakim Sahlgren!)"
      ]
    },
    {
      "cell_type": "markdown",
      "metadata": {
        "id": "qnSGmhvWRvSE",
        "colab_type": "text"
      },
      "source": [
        "---\n",
        "**NOTE!** \n",
        "\n",
        "For more detailed information about installing sidekick, see https://github.com/Peltarion/sidekick\n",
        "\n",
        "---\n"
      ]
    },
    {
      "cell_type": "code",
      "metadata": {
        "id": "igLzIQYhSJ6i",
        "colab_type": "code",
        "colab": {}
      },
      "source": [
        "!pip install git+https://github.com/Peltarion/sidekick#egg=sidekick"
      ],
      "execution_count": 0,
      "outputs": []
    },
    {
      "cell_type": "code",
      "metadata": {
        "id": "f1Ff8G11RvSB",
        "colab_type": "code",
        "colab": {}
      },
      "source": [
        "import glob\n",
        "import random\n",
        "import sidekick\n",
        "import numpy as np\n",
        "import os\n",
        "import seaborn as sns\n",
        "from PIL import Image"
      ],
      "execution_count": 0,
      "outputs": []
    },
    {
      "cell_type": "markdown",
      "metadata": {
        "id": "qIkrQMIcRvSF",
        "colab_type": "text"
      },
      "source": [
        "## Setup"
      ]
    },
    {
      "cell_type": "code",
      "metadata": {
        "id": "TonKPbuxRvSF",
        "colab_type": "code",
        "colab": {}
      },
      "source": [
        "client = sidekick.Deployment(\n",
        "    url='https://a.peltarion.com/deployment/7b49d575-c028-400d-808f-2e3c42e54a0d/forward',\n",
        "    token='<REDACTED>',\n",
        "    dtypes_in={'image': 'Image (28x28x1)'},\n",
        "    dtypes_out={'image': 'Image (28x28x1)'}\n",
        ")"
      ],
      "execution_count": 0,
      "outputs": []
    },
    {
      "cell_type": "markdown",
      "metadata": {
        "id": "HizvoKrQRvSI",
        "colab_type": "text"
      },
      "source": [
        "The test dataset (unlabeled) is available here:\n",
        "https://storage.googleapis.com/bucket-8732/MNISTtest.zip"
      ]
    },
    {
      "cell_type": "code",
      "metadata": {
        "id": "l6F2-9iSS72e",
        "colab_type": "code",
        "outputId": "43d55128-189a-42ab-9d7d-8f010b6e5ed2",
        "colab": {
          "base_uri": "https://localhost:8080/",
          "height": 68
        }
      },
      "source": [
        "!curl -O https://storage.googleapis.com/bucket-8732/MNISTtest.zip"
      ],
      "execution_count": 6,
      "outputs": [
        {
          "output_type": "stream",
          "text": [
            "  % Total    % Received % Xferd  Average Speed   Time    Time     Time  Current\n",
            "                                 Dload  Upload   Total   Spent    Left  Speed\n",
            "\r  0     0    0     0    0     0      0      0 --:--:-- --:--:-- --:--:--     0\r100 4360k  100 4360k    0     0  11.0M      0 --:--:-- --:--:-- --:--:-- 11.0M\n"
          ],
          "name": "stdout"
        }
      ]
    },
    {
      "cell_type": "code",
      "metadata": {
        "id": "uCK4NrG4BLia",
        "colab_type": "code",
        "colab": {}
      },
      "source": [
        "!unzip MNISTtest.zip"
      ],
      "execution_count": 0,
      "outputs": []
    },
    {
      "cell_type": "code",
      "metadata": {
        "id": "pf2a0LZxRvSI",
        "colab_type": "code",
        "colab": {}
      },
      "source": [
        "data_dir = 'MNISTtest'"
      ],
      "execution_count": 0,
      "outputs": []
    },
    {
      "cell_type": "code",
      "metadata": {
        "id": "9v8ihxwxRvSK",
        "colab_type": "code",
        "outputId": "eb212ba0-907d-46ac-bc67-43d566cf09f8",
        "colab": {
          "base_uri": "https://localhost:8080/",
          "height": 34
        }
      },
      "source": [
        "test_images = []\n",
        "for filename in glob.glob(os.path.join(data_dir,'*.png')):    \n",
        "    im=Image.open(filename)\n",
        "    im2 = im.copy()\n",
        "    test_images.append(im2)\n",
        "    im.close()\n",
        "print('Number of images: {}'.format(len(test_images)))"
      ],
      "execution_count": 9,
      "outputs": [
        {
          "output_type": "stream",
          "text": [
            "Number of images: 10000\n"
          ],
          "name": "stdout"
        }
      ]
    },
    {
      "cell_type": "markdown",
      "metadata": {
        "id": "I0LX4J0ORvSN",
        "colab_type": "text"
      },
      "source": [
        "## Reconstruct test images with added noise"
      ]
    },
    {
      "cell_type": "code",
      "metadata": {
        "id": "aZ3_n1A3RvSO",
        "colab_type": "code",
        "colab": {}
      },
      "source": [
        "def add_noise(im):\n",
        "    np_im = np.array(im)\n",
        "    row, col = np_im.shape\n",
        "    gauss = np.random.randn(row,col)\n",
        "    gauss = gauss.reshape(row, col)        \n",
        "    noisy = np_im + np_im * gauss\n",
        "    noisy_im = Image.fromarray(noisy)\n",
        "    noisy_im = noisy_im.convert(\"L\")\n",
        "    noisy_im.format = 'PNG'\n",
        "    return noisy_im"
      ],
      "execution_count": 0,
      "outputs": []
    },
    {
      "cell_type": "code",
      "metadata": {
        "id": "ZJfWWlSjRvSP",
        "colab_type": "code",
        "colab": {}
      },
      "source": [
        "test_images_i = iter(test_images)"
      ],
      "execution_count": 0,
      "outputs": []
    },
    {
      "cell_type": "code",
      "metadata": {
        "id": "1qQ6NwTERvSR",
        "colab_type": "code",
        "outputId": "2ec815c2-2fc8-4107-e0ae-b50334322411",
        "colab": {
          "base_uri": "https://localhost:8080/",
          "height": 251
        }
      },
      "source": [
        "img = next(test_images_i)\n",
        "display(img.resize((100,100)),'Original')\n",
        "img = add_noise(img)\n",
        "display(img.resize((100,100)),'Noisy')"
      ],
      "execution_count": 12,
      "outputs": [
        {
          "output_type": "display_data",
          "data": {
            "image/png": "[encoded data removed]",
            "text/plain": [
              "<PIL.Image.Image image mode=L size=100x100 at 0x7F7419DA6C18>"
            ]
          },
          "metadata": {
            "tags": []
          }
        },
        {
          "output_type": "display_data",
          "data": {
            "text/plain": [
              "'Original'"
            ]
          },
          "metadata": {
            "tags": []
          }
        },
        {
          "output_type": "display_data",
          "data": {
            "image/png": "[encoded data removed]",
            "text/plain": [
              "<PIL.Image.Image image mode=L size=100x100 at 0x7F741B5FA128>"
            ]
          },
          "metadata": {
            "tags": []
          }
        },
        {
          "output_type": "display_data",
          "data": {
            "text/plain": [
              "'Noisy'"
            ]
          },
          "metadata": {
            "tags": []
          }
        }
      ]
    },
    {
      "cell_type": "code",
      "metadata": {
        "id": "0n6fE_KmRvST",
        "colab_type": "code",
        "outputId": "22fcda37-c442-4c1d-d7d4-1af8a706ad48",
        "colab": {
          "base_uri": "https://localhost:8080/",
          "height": 134
        }
      },
      "source": [
        "recon_img = client.predict(image=img)['image']\n",
        "display(recon_img.resize((100,100)),'Denoised')"
      ],
      "execution_count": 13,
      "outputs": [
        {
          "output_type": "display_data",
          "data": {
            "image/png": "[encoded data removed]",
            "text/plain": [
              "<PIL.Image.Image image mode=L size=100x100 at 0x7F742CCE2C88>"
            ]
          },
          "metadata": {
            "tags": []
          }
        },
        {
          "output_type": "display_data",
          "data": {
            "text/plain": [
              "'Denoised'"
            ]
          },
          "metadata": {
            "tags": []
          }
        }
      ]
    },
    {
      "cell_type": "markdown",
      "metadata": {
        "id": "ffKXX8vKRvSW",
        "colab_type": "text"
      },
      "source": [
        "## Calculate and plot distribution of reconstruction errors"
      ]
    },
    {
      "cell_type": "code",
      "metadata": {
        "id": "wsDJsuTlRvSW",
        "colab_type": "code",
        "colab": {
          "base_uri": "https://localhost:8080/",
          "height": 269
        },
        "outputId": "409d1b49-3190-4221-8704-90490b14ec9a"
      },
      "source": [
        "# 1,000 samples\n",
        "random_samples = random.sample(test_images, k=1000)\n",
        "errors = []\n",
        "for img in random_samples:\n",
        "    img = add_noise(img)    \n",
        "    recon_img = client.predict(image=img)['image']\n",
        "    A, B = np.array(img), np.array(recon_img)\n",
        "    errors.append(np.square(np.subtract(A, B)).mean())\n",
        "sns.set_style('darkgrid')\n",
        "sns.distplot(np.array(errors));"
      ],
      "execution_count": 14,
      "outputs": [
        {
          "output_type": "display_data",
          "data": {
            "image/png": "[encoded data removed]",
            "text/plain": [
              "<Figure size 432x288 with 1 Axes>"
            ]
          },
          "metadata": {
            "tags": []
          }
        }
      ]
    },
    {
      "cell_type": "code",
      "metadata": {
        "id": "5qekzQj1RvSY",
        "colab_type": "code",
        "colab": {}
      },
      "source": [
        ""
      ],
      "execution_count": 0,
      "outputs": []
    }
  ]
}