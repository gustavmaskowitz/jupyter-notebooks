{
  "nbformat": 4,
  "nbformat_minor": 0,
  "metadata": {
    "colab": {
      "name": "Untitled22.ipynb",
      "version": "0.3.2",
      "provenance": [],
      "toc_visible": true,
      "include_colab_link": true
    },
    "kernelspec": {
      "name": "python3",
      "display_name": "Python 3"
    }
  },
  "cells": [
    {
      "cell_type": "markdown",
      "metadata": {
        "id": "view-in-github",
        "colab_type": "text"
      },
      "source": [
        "<a href=\"https://colab.research.google.com/github/gustavmaskowitz/jupyter-notebooks/blob/master/Kaggle-fruits360-DL-to-Peltarion-dataset.ipynb\" target=\"_parent\"><img src=\"https://colab.research.google.com/assets/colab-badge.svg\" alt=\"Open In Colab\"/></a>"
      ]
    },
    {
      "cell_type": "markdown",
      "metadata": {
        "id": "iblO-u9QjZ8K",
        "colab_type": "text"
      },
      "source": [
        "# Fruit-360 preprocessor\n",
        "This notebook will prepare the fruit-360 dataset for the Peltarion platform.\n",
        "\n",
        "Note: This notebook requires installation of Sidekick. For more information about this package, see: https://github.com/Peltarion/sidekick\n"
      ]
    },
    {
      "cell_type": "code",
      "metadata": {
        "id": "VQBK_K4ye5xf",
        "colab_type": "code",
        "colab": {}
      },
      "source": [
        "#Get sidekick\n",
        "!pip install git+https://github.com/Peltarion/sidekick#egg=sidekick\n"
      ],
      "execution_count": 0,
      "outputs": []
    },
    {
      "cell_type": "code",
      "metadata": {
        "id": "2PR7-X_Ze7nu",
        "colab_type": "code",
        "colab": {}
      },
      "source": [
        "import os\n",
        "import sidekick\n",
        "import resource\n",
        "import functools\n",
        "import pandas as pd\n",
        "from glob import glob\n",
        "from PIL import Image\n",
        "from sklearn.model_selection import train_test_split"
      ],
      "execution_count": 0,
      "outputs": []
    },
    {
      "cell_type": "code",
      "metadata": {
        "id": "Eh6AeOpkkPsQ",
        "colab_type": "code",
        "colab": {}
      },
      "source": [
        "!mkdir out"
      ],
      "execution_count": 0,
      "outputs": []
    },
    {
      "cell_type": "code",
      "metadata": {
        "id": "-knQmh-CjK38",
        "colab_type": "code",
        "colab": {
          "base_uri": "https://localhost:8080/",
          "height": 34
        },
        "outputId": "71d64d62-c5a5-4087-b0a1-67877b5c98a9"
      },
      "source": [
        "# Path to the raw dataset\n",
        "input_path = 'Fruit-Images-Dataset/Training'\n",
        "os.chdir(input_path)\n",
        "# Path to the zip output\n",
        "output_path = 'out/out-data.zip'\n",
        "\n",
        "images_rel_path = glob(os.path.join('*', '*.jpg')) + glob(os.path.join('*', '*.png'))\n",
        "print(\"Images found: \", len(images_rel_path))\n",
        "\n"
      ],
      "execution_count": 4,
      "outputs": [
        {
          "output_type": "stream",
          "text": [
            "Images found:  53177\n"
          ],
          "name": "stdout"
        }
      ]
    },
    {
      "cell_type": "markdown",
      "metadata": {
        "id": "XFdaYV_3kbn4",
        "colab_type": "text"
      },
      "source": [
        "## Create Dataframe\n",
        "The class column values are derived from the names of the subfolders in the `input_path`.\n",
        "\n",
        "The image column contains the relative path to the images in the subfolders.\n"
      ]
    },
    {
      "cell_type": "code",
      "metadata": {
        "id": "rxf3hk9rjNLZ",
        "colab_type": "code",
        "colab": {
          "base_uri": "https://localhost:8080/",
          "height": 204
        },
        "outputId": "cc9aec37-1a00-435c-e400-e46aba48e4b0"
      },
      "source": [
        "df = pd.DataFrame({'image': images_rel_path})\n",
        "df['class'] = df['image'].apply(lambda path: os.path.basename(os.path.dirname(path)))\n",
        "df.head()"
      ],
      "execution_count": 5,
      "outputs": [
        {
          "output_type": "execute_result",
          "data": {
            "text/html": [
              "<div>\n",
              "<style scoped>\n",
              "    .dataframe tbody tr th:only-of-type {\n",
              "        vertical-align: middle;\n",
              "    }\n",
              "\n",
              "    .dataframe tbody tr th {\n",
              "        vertical-align: top;\n",
              "    }\n",
              "\n",
              "    .dataframe thead th {\n",
              "        text-align: right;\n",
              "    }\n",
              "</style>\n",
              "<table border=\"1\" class=\"dataframe\">\n",
              "  <thead>\n",
              "    <tr style=\"text-align: right;\">\n",
              "      <th></th>\n",
              "      <th>image</th>\n",
              "      <th>class</th>\n",
              "    </tr>\n",
              "  </thead>\n",
              "  <tbody>\n",
              "    <tr>\n",
              "      <th>0</th>\n",
              "      <td>Cherry 2/307_100.jpg</td>\n",
              "      <td>Cherry 2</td>\n",
              "    </tr>\n",
              "    <tr>\n",
              "      <th>1</th>\n",
              "      <td>Cherry 2/r_232_100.jpg</td>\n",
              "      <td>Cherry 2</td>\n",
              "    </tr>\n",
              "    <tr>\n",
              "      <th>2</th>\n",
              "      <td>Cherry 2/r2_197_100.jpg</td>\n",
              "      <td>Cherry 2</td>\n",
              "    </tr>\n",
              "    <tr>\n",
              "      <th>3</th>\n",
              "      <td>Cherry 2/161_100.jpg</td>\n",
              "      <td>Cherry 2</td>\n",
              "    </tr>\n",
              "    <tr>\n",
              "      <th>4</th>\n",
              "      <td>Cherry 2/r_151_100.jpg</td>\n",
              "      <td>Cherry 2</td>\n",
              "    </tr>\n",
              "  </tbody>\n",
              "</table>\n",
              "</div>"
            ],
            "text/plain": [
              "                     image     class\n",
              "0     Cherry 2/307_100.jpg  Cherry 2\n",
              "1   Cherry 2/r_232_100.jpg  Cherry 2\n",
              "2  Cherry 2/r2_197_100.jpg  Cherry 2\n",
              "3     Cherry 2/161_100.jpg  Cherry 2\n",
              "4   Cherry 2/r_151_100.jpg  Cherry 2"
            ]
          },
          "metadata": {
            "tags": []
          },
          "execution_count": 5
        }
      ]
    },
    {
      "cell_type": "code",
      "metadata": {
        "id": "2jklQkK-jPxX",
        "colab_type": "code",
        "colab": {
          "base_uri": "https://localhost:8080/",
          "height": 51
        },
        "outputId": "b2683c25-301b-42ba-e13d-205fab40e55e"
      },
      "source": [
        "### Check that all images have the same format, e.g., RGB\n",
        "\n",
        "def get_mode(path):\n",
        "   im = Image.open(path)\n",
        "   im.close()\n",
        "   return im.mode\n",
        "\n",
        "df['image_mode'] = df['image'].apply(lambda path: get_mode(path))\n",
        "print(df['image_mode'].value_counts())\n",
        "df = df.drop(['image_mode'], axis=1)"
      ],
      "execution_count": 6,
      "outputs": [
        {
          "output_type": "stream",
          "text": [
            "RGB    53177\n",
            "Name: image_mode, dtype: int64\n"
          ],
          "name": "stdout"
        }
      ]
    },
    {
      "cell_type": "code",
      "metadata": {
        "id": "eMGeA4DUjUJb",
        "colab_type": "code",
        "colab": {
          "base_uri": "https://localhost:8080/",
          "height": 204
        },
        "outputId": "4f9c30cd-bd9a-447f-96f1-be1b5a05051e"
      },
      "source": [
        "## Create subsets for training and validation\n",
        "\n",
        "def create_subsets(df, col='class', validation_size=0.20):\n",
        "   train_data, validate_data = train_test_split(df, test_size=validation_size, random_state=42, stratify=df[[col]])\n",
        "   train_data.insert(loc=2, column='subset', value='T')\n",
        "   validate_data.insert(loc=2, column='subset', value='V')\n",
        "   return train_data.append(validate_data, ignore_index=True)\n",
        "df = create_subsets(df)\n",
        "df['subset'].value_counts()\n",
        "df.head()\n"
      ],
      "execution_count": 7,
      "outputs": [
        {
          "output_type": "execute_result",
          "data": {
            "text/html": [
              "<div>\n",
              "<style scoped>\n",
              "    .dataframe tbody tr th:only-of-type {\n",
              "        vertical-align: middle;\n",
              "    }\n",
              "\n",
              "    .dataframe tbody tr th {\n",
              "        vertical-align: top;\n",
              "    }\n",
              "\n",
              "    .dataframe thead th {\n",
              "        text-align: right;\n",
              "    }\n",
              "</style>\n",
              "<table border=\"1\" class=\"dataframe\">\n",
              "  <thead>\n",
              "    <tr style=\"text-align: right;\">\n",
              "      <th></th>\n",
              "      <th>image</th>\n",
              "      <th>class</th>\n",
              "      <th>subset</th>\n",
              "    </tr>\n",
              "  </thead>\n",
              "  <tbody>\n",
              "    <tr>\n",
              "      <th>0</th>\n",
              "      <td>Cocos/148_100.jpg</td>\n",
              "      <td>Cocos</td>\n",
              "      <td>T</td>\n",
              "    </tr>\n",
              "    <tr>\n",
              "      <th>1</th>\n",
              "      <td>Lemon/r_226_100.jpg</td>\n",
              "      <td>Lemon</td>\n",
              "      <td>T</td>\n",
              "    </tr>\n",
              "    <tr>\n",
              "      <th>2</th>\n",
              "      <td>Pineapple/133_100.jpg</td>\n",
              "      <td>Pineapple</td>\n",
              "      <td>T</td>\n",
              "    </tr>\n",
              "    <tr>\n",
              "      <th>3</th>\n",
              "      <td>Physalis/234_100.jpg</td>\n",
              "      <td>Physalis</td>\n",
              "      <td>T</td>\n",
              "    </tr>\n",
              "    <tr>\n",
              "      <th>4</th>\n",
              "      <td>Physalis/r_192_100.jpg</td>\n",
              "      <td>Physalis</td>\n",
              "      <td>T</td>\n",
              "    </tr>\n",
              "  </tbody>\n",
              "</table>\n",
              "</div>"
            ],
            "text/plain": [
              "                    image      class subset\n",
              "0       Cocos/148_100.jpg      Cocos      T\n",
              "1     Lemon/r_226_100.jpg      Lemon      T\n",
              "2   Pineapple/133_100.jpg  Pineapple      T\n",
              "3    Physalis/234_100.jpg   Physalis      T\n",
              "4  Physalis/r_192_100.jpg   Physalis      T"
            ]
          },
          "metadata": {
            "tags": []
          },
          "execution_count": 7
        }
      ]
    },
    {
      "cell_type": "code",
      "metadata": {
        "id": "JF-ZatVMjU0u",
        "colab_type": "code",
        "colab": {}
      },
      "source": [
        "## Create dataset bundle\n",
        "'''\n",
        "Available modes:\n",
        "- crop_and_resize\n",
        "- center_crop_or_pad\n",
        "- resize_image\n",
        "'''\n",
        "image_processor = functools.partial(sidekick.process_image, mode='crop_and_resize', size=(100, 100), file_format='jpeg')\n",
        "sidekick.create_dataset(\n",
        "   output_path,\n",
        "   df,\n",
        "   path_columns=['image'],\n",
        "   preprocess={\n",
        "       'image': image_processor\n",
        "   }\n",
        "   )    "
      ],
      "execution_count": 0,
      "outputs": []
    },
    {
      "cell_type": "code",
      "metadata": {
        "id": "RM5O7_IGlIYI",
        "colab_type": "code",
        "colab": {
          "base_uri": "https://localhost:8080/",
          "height": 122
        },
        "outputId": "e8cb4a6a-7177-4ba5-f552-015a3aee914d"
      },
      "source": [
        "# Adding Drive folders to colab notebook\n",
        "from google.colab import drive\n",
        "drive.mount('/content/drive')\n"
      ],
      "execution_count": 9,
      "outputs": [
        {
          "output_type": "stream",
          "text": [
            "Go to this URL in a browser: https://accounts.google.com/o/oauth2/auth?client_id=947318989803-6bn6qk8qdgf4n4g3pfee6491hc0brc4i.apps.googleusercontent.com&redirect_uri=urn%3Aietf%3Awg%3Aoauth%3A2.0%3Aoob&scope=email%20https%3A%2F%2Fwww.googleapis.com%2Fauth%2Fdocs.test%20https%3A%2F%2Fwww.googleapis.com%2Fauth%2Fdrive%20https%3A%2F%2Fwww.googleapis.com%2Fauth%2Fdrive.photos.readonly%20https%3A%2F%2Fwww.googleapis.com%2Fauth%2Fpeopleapi.readonly&response_type=code\n",
            "\n",
            "Enter your authorization code:\n",
            "··········\n",
            "Mounted at /content/drive\n"
          ],
          "name": "stdout"
        }
      ]
    },
    {
      "cell_type": "markdown",
      "metadata": {
        "id": "NpERTAXvlpMN",
        "colab_type": "text"
      },
      "source": [
        "# New Section"
      ]
    }
  ]
}